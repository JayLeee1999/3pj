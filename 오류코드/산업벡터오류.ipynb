{
 "cells": [
  {
   "cell_type": "markdown",
   "id": "5d7a320d",
   "metadata": {},
   "source": [
    "# 환경변수 설정"
   ]
  },
  {
   "cell_type": "code",
   "execution_count": 77,
   "id": "4cb8abeb",
   "metadata": {},
   "outputs": [],
   "source": [
    "from dotenv import load_dotenv\n",
    "import os\n",
    "from langchain.embeddings import OpenAIEmbeddings\n",
    "\n",
    "embedding = OpenAIEmbeddings()\n",
    "\n",
    "# .env 파일에서 환경 변수를 로드합니다.\n",
    "load_dotenv(override=True)\n",
    "\n",
    "# 환경 변수에서 PINECONE_API_KEY를 가져옵니다.\n",
    "PINECONE_API_KEY = os.environ['PINECONE_API_KEY']\n",
    "OPENAI_API_KEY = os.environ['OPENAI_API_KEY']"
   ]
  },
  {
   "cell_type": "markdown",
   "id": "937e8a28",
   "metadata": {},
   "source": [
    "# Pinecone 클라이언트 초기화"
   ]
  },
  {
   "cell_type": "code",
   "execution_count": 78,
   "id": "42812481",
   "metadata": {},
   "outputs": [],
   "source": [
    "from pinecone import Pinecone, ServerlessSpec\n",
    "\n",
    "# Pinecone 클라이언트를 초기화합니다.\n",
    "# PINECONE_API_KEY는 환경 변수에서 가져온 API 키입니다.\n",
    "pc = Pinecone(api_key=PINECONE_API_KEY)"
   ]
  },
  {
   "cell_type": "markdown",
   "id": "5f65b37d",
   "metadata": {},
   "source": [
    "# 레코드 업서트 \n",
    "- update + insert 데이터가 있으면 업데이트, 없으면 새로 삽입\n"
   ]
  },
  {
   "cell_type": "code",
   "execution_count": 79,
   "id": "99f627d5",
   "metadata": {},
   "outputs": [
    {
     "data": {
      "text/plain": [
       "{'dimension': 1536,\n",
       " 'index_fullness': 0.0,\n",
       " 'metric': 'cosine',\n",
       " 'namespaces': {'Industry': {'vector_count': 1571}},\n",
       " 'total_vector_count': 1571,\n",
       " 'vector_type': 'dense'}"
      ]
     },
     "execution_count": 79,
     "metadata": {},
     "output_type": "execute_result"
    }
   ],
   "source": [
    "# \"embedding-3d\"라는 이름의 인덱스를 초기화합니다.\n",
    "index = pc.Index(\"lastproject\")\n",
    "\n",
    "# 인덱스의 통계 정보를 설명하는 메서드를 호출하고, 그 결과를 출력합니다.\n",
    "# 인덱스의 통계 정보에는 인덱스에 저장된 벡터의 수, 차원, 메타데이터 등의 정보가 포함될 수 있습니다.\n",
    "index.describe_index_stats()"
   ]
  },
  {
   "cell_type": "markdown",
   "id": "7f98dc3e",
   "metadata": {},
   "source": [
    "- namespaces 가 비어 있음\n",
    "- namespaces에 이름이 없으면 hash가 없기 때문에 서칭 속도가 늦어짐 / hast는 고유 숫자 값 즉, namespace 그룹에 속해 있지 않음녀 전체 공간을 다 뒤져야 한다는 뜻\n",
    "- namespaces를 쓰면 속도가 높아짐"
   ]
  },
  {
   "cell_type": "markdown",
   "id": "982a9992",
   "metadata": {},
   "source": [
    "# langchain_openai 임베딩 객체 생성\n"
   ]
  },
  {
   "cell_type": "code",
   "execution_count": 80,
   "id": "0a6dd7fa",
   "metadata": {},
   "outputs": [],
   "source": [
    "from langchain_openai import OpenAIEmbeddings\n",
    "\n",
    "# OpenAIEmbeddings 클래스를 초기화합니다.\n",
    "# OPENAI_API_KEY는 환경 변수에서 가져온 API 키입니다.\n",
    "# embedding = OpenAIEmbeddings(model=\"text-embedding-3-small\", api_key=OPENAI_API_KEY)\n",
    "embedding = OpenAIEmbeddings(model=\"text-embedding-3-small\")"
   ]
  },
  {
   "cell_type": "markdown",
   "id": "902cb58f",
   "metadata": {},
   "source": [
    "# 텍스트분할"
   ]
  },
  {
   "cell_type": "code",
   "execution_count": 81,
   "id": "f5caff6f",
   "metadata": {},
   "outputs": [
    {
     "name": "stdout",
     "output_type": "stream",
     "text": [
      "Note: you may need to restart the kernel to use updated packages.\n"
     ]
    }
   ],
   "source": [
    "# 위키피이아 데이터 셋\n",
    "# 허깅페이스의 데이터를 다운로드 받을 때 설치 필요\n",
    "%pip install -qU datasets"
   ]
  },
  {
   "cell_type": "code",
   "execution_count": 82,
   "id": "a3a7a655",
   "metadata": {},
   "outputs": [
    {
     "name": "stdout",
     "output_type": "stream",
     "text": [
      "KRX 업종명\n",
      "상세내용\n"
     ]
    }
   ],
   "source": [
    "import pandas as pd\n",
    "\n",
    "df1 = pd.read_csv(\"data/산업DB.v.0.3.csv\")\n",
    "\n",
    "for record in df1:\n",
    "    print(record)"
   ]
  },
  {
   "cell_type": "code",
   "execution_count": 83,
   "id": "610758ed",
   "metadata": {},
   "outputs": [
    {
     "data": {
      "text/html": [
       "<div>\n",
       "<style scoped>\n",
       "    .dataframe tbody tr th:only-of-type {\n",
       "        vertical-align: middle;\n",
       "    }\n",
       "\n",
       "    .dataframe tbody tr th {\n",
       "        vertical-align: top;\n",
       "    }\n",
       "\n",
       "    .dataframe thead th {\n",
       "        text-align: right;\n",
       "    }\n",
       "</style>\n",
       "<table border=\"1\" class=\"dataframe\">\n",
       "  <thead>\n",
       "    <tr style=\"text-align: right;\">\n",
       "      <th></th>\n",
       "      <th>id</th>\n",
       "      <th>KRX 업종명</th>\n",
       "      <th>상세내용</th>\n",
       "    </tr>\n",
       "  </thead>\n",
       "  <tbody>\n",
       "    <tr>\n",
       "      <th>0</th>\n",
       "      <td>0-0</td>\n",
       "      <td>IT 서비스</td>\n",
       "      <td>IT 서비스: 컴퓨터\\n특정 고객의 요구에 의하여 주문형 소프트웨어를 자문, 개발 ...</td>\n",
       "    </tr>\n",
       "    <tr>\n",
       "      <th>1</th>\n",
       "      <td>1-0</td>\n",
       "      <td>IT 서비스</td>\n",
       "      <td>IT 서비스: 컴퓨터\\n컴퓨터\\n템을 기획, 설계하는 산업활동을 말한다. 이 사업체...</td>\n",
       "    </tr>\n",
       "    <tr>\n",
       "      <th>2</th>\n",
       "      <td>2-0</td>\n",
       "      <td>IT 서비스</td>\n",
       "      <td>IT 서비스: 컴퓨터시설  관리업\\n고객 사업장의 컴퓨터 시스템 및 자료 처리시설을...</td>\n",
       "    </tr>\n",
       "    <tr>\n",
       "      <th>3</th>\n",
       "      <td>3-0</td>\n",
       "      <td>IT 서비스</td>\n",
       "      <td>IT 서비스: 기타  정보  기술  및  컴퓨터  운영  관련  서비스업\\n기타 컴...</td>\n",
       "    </tr>\n",
       "    <tr>\n",
       "      <th>4</th>\n",
       "      <td>3-1</td>\n",
       "      <td>IT 서비스</td>\n",
       "      <td>J\\n정 보 통 신 업\\n정보서비스업\\n자료  처리  및 데이터베이스 구축,  웹 ...</td>\n",
       "    </tr>\n",
       "    <tr>\n",
       "      <th>...</th>\n",
       "      <td>...</td>\n",
       "      <td>...</td>\n",
       "      <td>...</td>\n",
       "    </tr>\n",
       "    <tr>\n",
       "      <th>1566</th>\n",
       "      <td>1202-0</td>\n",
       "      <td>화학</td>\n",
       "      <td>화학: 플라스틱  접착처리  제품  제조업\\n플라스틱 제품 표면에 접착 물질을 처리...</td>\n",
       "    </tr>\n",
       "    <tr>\n",
       "      <th>1567</th>\n",
       "      <td>1203-0</td>\n",
       "      <td>화학</td>\n",
       "      <td>화학: 플라스틱  적층,  도포  및  기타  표면처리  제품  제조업\\n플라스틱 ...</td>\n",
       "    </tr>\n",
       "    <tr>\n",
       "      <th>1568</th>\n",
       "      <td>1204-0</td>\n",
       "      <td>화학</td>\n",
       "      <td>화학: 그  외  기타  플라스틱  제품  제조업\\n개인,  가정,  식탁  및  ...</td>\n",
       "    </tr>\n",
       "    <tr>\n",
       "      <th>1569</th>\n",
       "      <td>1204-1</td>\n",
       "      <td>화학</td>\n",
       "      <td>․덮개를 씌우지 않은 셀룰러 플라스틱 매트리스 제조(320)\\n․재생 플라스틱제품 ...</td>\n",
       "    </tr>\n",
       "    <tr>\n",
       "      <th>1570</th>\n",
       "      <td>1204-2</td>\n",
       "      <td>화학</td>\n",
       "      <td>․법랑제품 제조(25)\\n231           유리  및  유리제품  제조업\\n...</td>\n",
       "    </tr>\n",
       "  </tbody>\n",
       "</table>\n",
       "<p>1571 rows × 3 columns</p>\n",
       "</div>"
      ],
      "text/plain": [
       "          id KRX 업종명                                               상세내용\n",
       "0        0-0  IT 서비스  IT 서비스: 컴퓨터\\n특정 고객의 요구에 의하여 주문형 소프트웨어를 자문, 개발 ...\n",
       "1        1-0  IT 서비스  IT 서비스: 컴퓨터\\n컴퓨터\\n템을 기획, 설계하는 산업활동을 말한다. 이 사업체...\n",
       "2        2-0  IT 서비스  IT 서비스: 컴퓨터시설  관리업\\n고객 사업장의 컴퓨터 시스템 및 자료 처리시설을...\n",
       "3        3-0  IT 서비스  IT 서비스: 기타  정보  기술  및  컴퓨터  운영  관련  서비스업\\n기타 컴...\n",
       "4        3-1  IT 서비스  J\\n정 보 통 신 업\\n정보서비스업\\n자료  처리  및 데이터베이스 구축,  웹 ...\n",
       "...      ...     ...                                                ...\n",
       "1566  1202-0      화학  화학: 플라스틱  접착처리  제품  제조업\\n플라스틱 제품 표면에 접착 물질을 처리...\n",
       "1567  1203-0      화학  화학: 플라스틱  적층,  도포  및  기타  표면처리  제품  제조업\\n플라스틱 ...\n",
       "1568  1204-0      화학  화학: 그  외  기타  플라스틱  제품  제조업\\n개인,  가정,  식탁  및  ...\n",
       "1569  1204-1      화학  ․덮개를 씌우지 않은 셀룰러 플라스틱 매트리스 제조(320)\\n․재생 플라스틱제품 ...\n",
       "1570  1204-2      화학  ․법랑제품 제조(25)\\n231           유리  및  유리제품  제조업\\n...\n",
       "\n",
       "[1571 rows x 3 columns]"
      ]
     },
     "execution_count": 83,
     "metadata": {},
     "output_type": "execute_result"
    }
   ],
   "source": [
    "from langchain.text_splitter import RecursiveCharacterTextSplitter\n",
    "\n",
    "df1['text'] = df1.apply(lambda row: f\"{row['KRX 업종명']}: {row['상세내용']}\", axis=1)\n",
    "\n",
    "splitter = RecursiveCharacterTextSplitter(\n",
    "    chunk_size=400,\n",
    "    chunk_overlap=30,\n",
    "    length_function=len,\n",
    "    separators=[\"\\n\\n\", \"\\n\", \" \", \"\"]\n",
    ")\n",
    "\n",
    "chunks = []\n",
    "for idx, text in enumerate(df1['text']):\n",
    "    split_texts = splitter.split_text(text)\n",
    "    for j, chunk in enumerate(split_texts):\n",
    "        chunks.append({\n",
    "            \"id\": f\"{idx}-{j}\",\n",
    "            \"KRX 업종명\": df1.iloc[idx]['KRX 업종명'],\n",
    "            \"상세내용\": chunk\n",
    "        })\n",
    "\n",
    "# 결과를 DataFrame으로 저장\n",
    "chunk_df1 = pd.DataFrame(chunks)\n",
    "chunk_df1"
   ]
  },
  {
   "cell_type": "code",
   "execution_count": null,
   "id": "b6a04b0c",
   "metadata": {},
   "outputs": [
    {
     "data": {
      "text/plain": [
       "{}"
      ]
     },
     "execution_count": 88,
     "metadata": {},
     "output_type": "execute_result"
    }
   ],
   "source": [
    "# index.delete(delete_all=True, namespace=\"Industry\") # 인덱스 삭제"
   ]
  },
  {
   "cell_type": "code",
   "execution_count": null,
   "id": "8346510f",
   "metadata": {},
   "outputs": [
    {
     "ename": "AttributeError",
     "evalue": "'list' object has no attribute 'iterrows'",
     "output_type": "error",
     "traceback": [
      "\u001b[31m---------------------------------------------------------------------------\u001b[39m",
      "\u001b[31mAttributeError\u001b[39m                            Traceback (most recent call last)",
      "\u001b[36mCell\u001b[39m\u001b[36m \u001b[39m\u001b[32mIn[87]\u001b[39m\u001b[32m, line 11\u001b[39m\n\u001b[32m      8\u001b[39m count = \u001b[32m0\u001b[39m\n\u001b[32m     10\u001b[39m \u001b[38;5;66;03m# chunk_df1 반복\u001b[39;00m\n\u001b[32m---> \u001b[39m\u001b[32m11\u001b[39m \u001b[38;5;28;01mfor\u001b[39;00m _, row \u001b[38;5;129;01min\u001b[39;00m tqdm(\u001b[43mchunks\u001b[49m\u001b[43m.\u001b[49m\u001b[43miterrows\u001b[49m(), total=\u001b[38;5;28mlen\u001b[39m(chunks)):\n\u001b[32m     12\u001b[39m     text_chunk = row[\u001b[33m\"\u001b[39m\u001b[33m상세내용\u001b[39m\u001b[33m\"\u001b[39m]         \u001b[38;5;66;03m# 실제 업로드할 텍스트 청크\u001b[39;00m\n\u001b[32m     13\u001b[39m     industry = row[\u001b[33m\"\u001b[39m\u001b[33mKRX 업종명\u001b[39m\u001b[33m\"\u001b[39m]        \u001b[38;5;66;03m# 업종명 (메타데이터 용)\u001b[39;00m\n",
      "\u001b[31mAttributeError\u001b[39m: 'list' object has no attribute 'iterrows'"
     ]
    }
   ],
   "source": [
    "from uuid import uuid4\n",
    "from tqdm.auto import tqdm\n",
    "import time\n",
    "\n",
    "batch_size = 100\n",
    "texts = []\n",
    "metas = []\n",
    "count = 0\n",
    "\n",
    "# chunk_df1 반복\n",
    "for _, row in tqdm(chunk_df1.iterrows(), total=len(chunk_df1)):\n",
    "    text_chunk = row[\"상세내용\"]         # 실제 업로드할 텍스트 청크\n",
    "    industry = row[\"KRX 업종명\"]        # 업종명 (메타데이터 용)\n",
    "    chunk_id = row[\"id\"]               # 청크 ID\n",
    "\n",
    "    # 메타데이터 구성 (검색 결과에 함께 나타나도록)\n",
    "    metadata = {\n",
    "        \"chunk_id\": chunk_id,\n",
    "        \"산업\": industry,\n",
    "        \"상세내용\" : chunk\n",
    "    }\n",
    "\n",
    "    texts.append(text_chunk)\n",
    "    metas.append(metadata)\n",
    "    count += 1\n",
    "\n",
    "    # 일정 수만큼 모이면 업로드\n",
    "    if count % batch_size == 0:\n",
    "        ids = [str(uuid4()) for _ in range(len(texts))]\n",
    "        embeddings = embedding.embed_documents(texts)\n",
    "        index.upsert(vectors=zip(ids, embeddings, metas), namespace=\"Industry\")\n",
    "        texts, metas = [], []\n",
    "        time.sleep(1)  # 과부하 방지\n",
    "\n",
    "# 마지막 남은 것 업로드\n",
    "if texts:\n",
    "    ids = [str(uuid4()) for _ in range(len(texts))]\n",
    "    embeddings = embedding.embed_documents(texts)\n",
    "    index.upsert(vectors=zip(ids, embeddings, metas), namespace=\"Industry\")\n"
   ]
  }
 ],
 "metadata": {
  "kernelspec": {
   "display_name": "3pj_env",
   "language": "python",
   "name": "python3"
  },
  "language_info": {
   "codemirror_mode": {
    "name": "ipython",
    "version": 3
   },
   "file_extension": ".py",
   "mimetype": "text/x-python",
   "name": "python",
   "nbconvert_exporter": "python",
   "pygments_lexer": "ipython3",
   "version": "3.11.13"
  }
 },
 "nbformat": 4,
 "nbformat_minor": 5
}
