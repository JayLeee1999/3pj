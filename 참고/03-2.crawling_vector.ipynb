{
 "cells": [
  {
   "cell_type": "code",
   "execution_count": 3,
   "id": "f86719d6",
   "metadata": {},
   "outputs": [],
   "source": [
    "from dotenv import load_dotenv\n",
    "import os\n",
    "import json\n",
    "\n",
    "load_dotenv(override=True)\n",
    "\n",
    "OPENAI_API_KEY = os.getenv(\"OPENAI_API_KEY\")\n",
    "PINECONE_API_KEY = os.getenv(\"PINECONE_API_KEY\")\n",
    "OPENAI_EMBEDDING_MODEL = os.getenv(\"OPENAI_EMBEDDING_MODEL\")\n",
    "PINECONE_INDEX_NAME = os.getenv(\"PINECONE_INDEX_NAME\")\n",
    "PINECONE_NAMESPACE = os.getenv(\"PINECONE_NAMESPACE\")"
   ]
  },
  {
   "cell_type": "code",
   "execution_count": 5,
   "id": "8dde914e",
   "metadata": {},
   "outputs": [
    {
     "name": "stdout",
     "output_type": "stream",
     "text": [
      "📂 로드하는 파일: data2\\2025.07.23_12.07.17_BigKinds_current_issues.json\n"
     ]
    }
   ],
   "source": [
    "def load_latest_current_issues():\n",
    "    \"\"\"최신 현재이슈 JSON 파일을 자동으로 로드\"\"\"\n",
    "    import glob\n",
    "    import os\n",
    "    from langchain.schema import Document\n",
    "    \n",
    "    json_files = glob.glob(\"data2/*_BigKinds_current_issues.json\")\n",
    "    if not json_files:\n",
    "        raise FileNotFoundError(\"현재이슈 JSON 파일을 찾을 수 없습니다.\")\n",
    "    \n",
    "    latest_file = max(json_files, key=os.path.getctime)\n",
    "    print(f\"📂 로드하는 파일: {latest_file}\")\n",
    "    \n",
    "    with open(latest_file, \"r\", encoding=\"utf-8\") as f:\n",
    "        data = json.load(f)\n",
    "    \n",
    "    issues = data[\"issues\"]\n",
    "    docs = [\n",
    "        Document(\n",
    "            page_content=f\"{item['제목']}\\n{item['내용']}\",\n",
    "            metadata={\"이슈번호\": item[\"이슈번호\"], \"제목\": item[\"제목\"]}\n",
    "        )\n",
    "        for item in issues\n",
    "    ]\n",
    "    \n",
    "    return docs\n",
    "\n",
    "# 사용법\n",
    "docs = load_latest_current_issues()"
   ]
  },
  {
   "cell_type": "code",
   "execution_count": null,
   "id": "b8a067c4",
   "metadata": {},
   "outputs": [
    {
     "data": {
      "text/plain": [
       "10"
      ]
     },
     "execution_count": 24,
     "metadata": {},
     "output_type": "execute_result"
    }
   ],
   "source": [
    "\n",
    "len(docs)   # csv 행이 1205개 있다는 것"
   ]
  },
  {
   "cell_type": "code",
   "execution_count": null,
   "id": "8df9373e",
   "metadata": {},
   "outputs": [],
   "source": [
    "# embedding 모델 객체 생성\n",
    "from langchain_openai import OpenAIEmbeddings\n",
    "embeddings = OpenAIEmbeddings(model=\"text-embedding-3-small\")\n"
   ]
  },
  {
   "cell_type": "code",
   "execution_count": null,
   "id": "884f93fa",
   "metadata": {},
   "outputs": [],
   "source": [
    "from pinecone import Pinecone, ServerlessSpec\n",
    "\n",
    "# Pinecone 클라이언트를 초기화(객체생성)\n",
    "pc = Pinecone(api_key=PINECONE_API_KEY)"
   ]
  },
  {
   "cell_type": "code",
   "execution_count": null,
   "id": "566127b2",
   "metadata": {},
   "outputs": [],
   "source": [
    "# split하기\n",
    "from langchain.text_splitter import RecursiveCharacterTextSplitter\n",
    "\n",
    "# 텍스트 분할기 설정 (예: 1000자씩 분할)\n",
    "text_splitter = RecursiveCharacterTextSplitter(\n",
    "    chunk_size=450, \n",
    "    chunk_overlap=45,\n",
    "    # length_function=tiktoken_len,  # 토큰 기반 길이 측정    \n",
    "    length_function=len,  # 문자수   \n",
    "    separators=[\"\\n\\n\", \"\\n\", \" \", \"\"]\n",
    "    )\n",
    "\n",
    "# 문서를 분할\n",
    "chunks = text_splitter.split_documents(docs)"
   ]
  },
  {
   "cell_type": "code",
   "execution_count": null,
   "id": "8ce1e886",
   "metadata": {},
   "outputs": [
    {
     "data": {
      "text/plain": [
       "10"
      ]
     },
     "execution_count": 28,
     "metadata": {},
     "output_type": "execute_result"
    }
   ],
   "source": [
    "len(chunks)"
   ]
  }
 ],
 "metadata": {
  "kernelspec": {
   "display_name": "3pj_env",
   "language": "python",
   "name": "python3"
  },
  "language_info": {
   "codemirror_mode": {
    "name": "ipython",
    "version": 3
   },
   "file_extension": ".py",
   "mimetype": "text/x-python",
   "name": "python",
   "nbconvert_exporter": "python",
   "pygments_lexer": "ipython3",
   "version": "3.11.13"
  }
 },
 "nbformat": 4,
 "nbformat_minor": 5
}
