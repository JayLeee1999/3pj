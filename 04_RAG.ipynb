{
 "cells": [
  {
   "cell_type": "code",
   "execution_count": 16,
   "id": "8b3d3dc3",
   "metadata": {},
   "outputs": [
    {
     "data": {
      "text/plain": [
       "True"
      ]
     },
     "execution_count": 16,
     "metadata": {},
     "output_type": "execute_result"
    }
   ],
   "source": [
    "from dotenv import load_dotenv\n",
    "from langchain_core.prompts import ChatPromptTemplate, HumanMessagePromptTemplate\n",
    "from langchain_core.output_parsers import StrOutputParser, JsonOutputParser\n",
    "from langchain_openai import ChatOpenAI\n",
    "import os\n",
    "\n",
    "load_dotenv(override=True)"
   ]
  },
  {
   "cell_type": "code",
   "execution_count": 17,
   "id": "9cb332c2",
   "metadata": {},
   "outputs": [],
   "source": [
    "\n",
    "def describe_industry(query):\n",
    "    # pass\n",
    "    prompt = ChatPromptTemplate.from_messages([\n",
    "            (\"system\", \"\"\"\n",
    "        당신은 주식 시장에 대한 통찰력 있는 분석을 제공하는 전문 금융 애널리스트입니다.\n",
    "        개인 투자자들이 시장 뉴스를 이해하고 현명한 판단을 내릴 수 있도록 돕는 역할을 합니다.\n",
    "\n",
    "        당신의 목표는 다음과 같습니다:\n",
    "        - 현재 뉴스가 무엇을 의미하는지 설명하고,\n",
    "        - 과거 유사 뉴스와 비교해 변화된 점을 분석하며,\n",
    "        - 관련 산업의 특성을 바탕으로 어떤 영향이 있을 수 있는지 알려줍니다.\n",
    "\n",
    "        설명은 투자자 입장에서 알기 쉽게 풀어주고, 전문 용어는 피하며, 실제 사례나 비유를 활용해 이해를 돕습니다.\n",
    "        투자 판단에 참고할 만한 시사점이나 주의할 점도 포함해 주세요.\n",
    "        \"\"\"),\n",
    "            (\"human\", \"\"\"\n",
    "        아래 세 가지 정보를 바탕으로 종합적인 설명을 해주세요.\n",
    "\n",
    "        ## 현재 뉴스:\n",
    "        {current_news}\n",
    "\n",
    "        ## 과거 뉴스:\n",
    "        {past_news}\n",
    "\n",
    "        ## 관련 산업 정보:\n",
    "        {industry_context}\n",
    "\n",
    "        형식: 2~3개의 문단으로, 명확하고 쉽게 설명해 주세요.  \n",
    "        분석은 한국어로 작성해 주세요.\n",
    "        \"\"\")\n",
    "    ])\n",
    "\n",
    "    llm = ChatOpenAI(model=\"gpt-4o\", temperature=0, max_tokens=4095)\n",
    "\n",
    "    chain = prompt | llm | StrOutputParser()\n",
    "\n",
    "    return chain.invoke(query)"
   ]
  },
  {
   "cell_type": "code",
   "execution_count": 18,
   "id": "01a4ac62",
   "metadata": {},
   "outputs": [],
   "source": [
    "\n",
    "from langchain_core.runnables import RunnableLambda\n",
    "\n",
    "\n",
    "r1 = RunnableLambda(describe_industry)"
   ]
  },
  {
   "cell_type": "code",
   "execution_count": 22,
   "id": "4d4cea23",
   "metadata": {},
   "outputs": [
    {
     "name": "stdout",
     "output_type": "stream",
     "text": [
      "\n",
      "[1] 📌 유사 산업: ﻿ 일반서비스\n",
      "📍 관련 이유:\n",
      "현재 SK텔레콤(SKT)의 고객 이탈 사태는 최근 발생한 사이버 보안 사고에 대한 대응으로, 계약 해지 수수료를 면제하면서 가속화되고 있습니다. 이는 고객들이 보안에 대한 신뢰를 잃고 경쟁사로 이동하는 결과를 초래하고 있습니다. 하루에만 6,656명의 순손실을 기록했으며, 일주일 동안 28,566명의 순손실을 보였습니다. 이는 과거 LG U+의 개인정보 유출 사건 당시에도 유사한 해지 사태가 있었던 것과 유사합니다. 당시에도 고객들은 보안 문제로 인해 불안감을 느끼고 다른 통신사로 이동하는 경향을 보였습니다.\n",
      "\n",
      "관련 산업은 일반서비스 업종으로, 콜센터 및 텔레마케팅 서비스업이 포함됩니다. 이 산업은 고객의 불만이나 요청을 처리하고, 상품 및 서비스를 홍보하는 역할을 합니다. SKT의 경우, 고객 서비스와 관련된 부분에서 신뢰를 잃게 되면, 고객 이탈이 가속화될 수 있습니다. 특히, 고객의 불만을 효과적으로 처리하지 못하거나, 보안 문제에 대한 적절한 대응이 부족할 경우, 고객의 신뢰를 회복하기 어려울 수 있습니다.\n",
      "\n",
      "투자자 입장에서 주의할 점은, 이러한 고객 이탈이 장기적으로 SKT의 수익성에 부정적인 영향을 미칠 수 있다는 것입니다. 고객 기반이 줄어들면 매출 감소로 이어질 수 있으며, 이는 주가에도 부정적인 영향을 미칠 수 있습니다. 따라서, SKT가 보안 문제를 어떻게 해결하고 고객 신뢰를 회복할 수 있을지 주의 깊게 지켜볼 필요가 있습니다. 또한, 경쟁사인 KT와 LG U+가 이러한 상황을 어떻게 활용하고 있는지도 관찰할 필요가 있습니다.\n",
      "---\n",
      "\n",
      "[2] 📌 유사 산업: ﻿ 일반서비스\n",
      "📍 관련 이유:\n",
      "현재 SK텔레콤(SKT)의 고객 이탈 사태는 최근 발생한 사이버 보안 사고에 대한 대응으로, 계약 해지 수수료를 면제하면서 가속화되고 있습니다. 이는 고객들이 보안에 대한 신뢰를 잃고 경쟁사로 이동하는 결과를 초래하고 있습니다. 하루에만 6,656명의 순손실을 기록하며, 일주일 동안 28,566명의 순유출이 발생했습니다. 이는 과거 LG U+의 개인정보 유출 사건 당시에도 유사한 해지 사태가 있었던 것과 비슷한 양상입니다. 당시에도 고객들은 보안 문제로 인해 불안감을 느끼고 다른 통신사로 이동하는 경향을 보였습니다.\n",
      "\n",
      "관련 산업은 일반서비스 업종으로, 콜센터 및 텔레마케팅 서비스업이 포함됩니다. 이 산업은 고객의 불만이나 요청을 처리하고, 상품 및 서비스를 홍보하는 역할을 합니다. SKT의 경우, 고객 서비스와 관련된 부분에서 신뢰를 잃게 되면, 고객 이탈이 가속화될 수 있습니다. 특히, 고객의 불만을 신속하고 효과적으로 처리하지 못하면, 고객의 불만이 더욱 커질 수 있습니다. 따라서, SKT는 고객 서비스 개선과 보안 강화에 집중해야 할 필요가 있습니다.\n",
      "\n",
      "투자자 입장에서 보면, SKT의 고객 이탈은 단기적으로 수익성에 부정적인 영향을 미칠 수 있습니다. 고객 기반이 줄어들면 매출 감소로 이어질 수 있기 때문입니다. 그러나 장기적으로는 보안 문제를 해결하고 고객 신뢰를 회복하는 것이 중요합니다. 투자자들은 SKT가 이러한 문제를 어떻게 해결해 나가는지를 주의 깊게 살펴볼 필요가 있습니다. 또한, 경쟁사인 KT와 LG U+의 고객 유입 증가가 지속될지 여부도 주목해야 할 부분입니다.\n",
      "---\n",
      "\n",
      "[3] 📌 유사 산업: ﻿ 통신\n",
      "📍 관련 이유:\n",
      "SK텔레콤(SKT)의 최근 뉴스는 통신 산업에서 발생한 고객 이탈 문제를 다루고 있습니다. SKT는 최근 사이버 보안 사고로 인해 고객들에게 계약 해지 수수료를 면제해 주겠다고 발표했는데, 이로 인해 많은 고객들이 경쟁사인 KT와 LG U+로 이동하고 있습니다. 이는 통신 산업에서 고객 충성도가 얼마나 중요한지를 보여주는 사례입니다. 통신 산업은 무선 및 위성 통신을 통해 음성, 데이터, 문자 등을 송수신하는 활동을 포함하며, 고객 기반이 매우 중요합니다. 고객 이탈은 수익 감소로 이어질 수 있기 때문에, SKT의 상황은 심각한 경고 신호로 볼 수 있습니다.\n",
      "\n",
      "과거 LG U+의 개인정보 유출 사건에서도 비슷한 고객 이탈 현상이 있었습니다. 이는 통신사들이 보안 문제에 얼마나 민감하게 대응해야 하는지를 보여줍니다. 고객들은 개인정보 보호에 대한 신뢰가 깨지면 빠르게 다른 서비스로 이동할 수 있습니다. SKT의 경우, 보안 사고 이후 고객 이탈이 가속화되었고, 이는 통신사들이 보안 문제를 철저히 관리해야 하는 이유를 잘 설명해 줍니다. 투자자 입장에서는 이러한 보안 사고가 발생할 경우 주가에 부정적인 영향을 미칠 수 있으므로, 통신사의 보안 관리 능력을 주의 깊게 살펴보는 것이 중요합니다.\n",
      "---\n"
     ]
    }
   ],
   "source": [
    "\n",
    "from langchain_openai import OpenAIEmbeddings\n",
    "from langchain_pinecone import PineconeVectorStore\n",
    "import os\n",
    "\n",
    "embedding = OpenAIEmbeddings(model=\"text-embedding-3-small\")\n",
    "vector_store = PineconeVectorStore(\n",
    "    index_name=\"lastproject\",\n",
    "    embedding=embedding,\n",
    "    namespace=\"industry\"\n",
    ")\n",
    "\n",
    "query = \"\"\"\n",
    "SK Telecom (SKT) is continuing to suffer from a customer exodus, with numbers rising rapidly, especially after it promised to waive contract termination fees for everyone in response to a recent cybersecurity incident.\n",
    "\n",
    "A total of 17,376 SKT subscribers switched to rival carriers on Thursday, according to the telecom industry on Friday. Of these, 8,915 moved to KT and 8,461 to LG U+.\n",
    "\n",
    "In contrast, only 10,720 subscribers switched to SKT from KT and LG U+, resulting in a net loss of 6,656 subscribers in just one day.\n",
    "\n",
    "Since Saturday, when SKT began waiving early termination fees, the company has averaged over 10,000 daily subscriber losses, with the exception of Sunday. The cumulative number of subscribers who left SKT between Saturday to Thursday has reached 75,214, with a net outflow of 28,566.\n",
    "관련 산업이 어떤 산업인지 설명해주고, 왜 이 기사와 관련됐는지 구체적으로 설명해줘\n",
    "\"\"\"\n",
    "\n",
    "# vector_store.similarity_search(query, namespace=os.getenv(\"industry\"), k=3)\n",
    "\n",
    "results = vector_store.similarity_search(query, namespace=\"industry\", k=3)\n",
    "\n",
    "past_news = \"과거 LG U+의 개인정보 유출 사건 당시에도 유사한 해지 사태가 있었습니다.\"\n",
    "\n",
    "for i, doc in enumerate(results):\n",
    "    industry_name = doc.page_content.split(\"\\n\")[0].replace(\"KRX 업종명:\", \"\").strip()\n",
    "    industry_text = doc.page_content\n",
    "\n",
    "    print(f\"\\n[{i+1}] 📌 유사 산업: {industry_name}\")\n",
    "\n",
    "    explanation = describe_industry({\n",
    "        \"current_news\": query,\n",
    "        \"past_news\": past_news,\n",
    "        \"industry_context\": industry_text\n",
    "    })\n",
    "\n",
    "    print(f\"📍 관련 이유:\\n{explanation}\")\n",
    "    print(\"---\")"
   ]
  },
  {
   "cell_type": "code",
   "execution_count": null,
   "id": "f4cafe16",
   "metadata": {},
   "outputs": [],
   "source": []
  }
 ],
 "metadata": {
  "kernelspec": {
   "display_name": "3pj_env",
   "language": "python",
   "name": "python3"
  },
  "language_info": {
   "codemirror_mode": {
    "name": "ipython",
    "version": 3
   },
   "file_extension": ".py",
   "mimetype": "text/x-python",
   "name": "python",
   "nbconvert_exporter": "python",
   "pygments_lexer": "ipython3",
   "version": "3.11.13"
  }
 },
 "nbformat": 4,
 "nbformat_minor": 5
}
