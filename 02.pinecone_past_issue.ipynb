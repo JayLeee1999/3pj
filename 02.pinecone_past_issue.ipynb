{
 "cells": [
  {
   "cell_type": "code",
   "execution_count": 34,
   "id": "f86719d6",
   "metadata": {},
   "outputs": [],
   "source": [
    "from dotenv import load_dotenv\n",
    "import os\n",
    "\n",
    "load_dotenv(override=True)\n",
    "\n",
    "OPENAI_API_KEY = os.getenv(\"OPENAI_API_KEY\")\n",
    "PINECONE_API_KEY = os.getenv(\"PINECONE_API_KEY\")\n",
    "OPENAI_EMBEDDING_MODEL = os.getenv(\"OPENAI_EMBEDDING_MODEL\")\n",
    "PINECONE_INDEX_NAME = os.getenv(\"PINECONE_INDEX_NAME\")\n",
    "PINECONE_NAMESPACE = os.getenv(\"PINECONE_NAMESPACE\")"
   ]
  },
  {
   "cell_type": "code",
   "execution_count": 35,
   "id": "8dde914e",
   "metadata": {},
   "outputs": [
    {
     "name": "stdout",
     "output_type": "stream",
     "text": [
      "0 page_content='﻿ID: PN_001\n",
      "Issue_name: 메르스 사태 확산\n",
      "Contents: 2015년 5월부터 국내에서 중동호흡기증후군(MERS)이 확산되며 국민 불안과 소비 위축, 관광객 감소가 동반되었음. 내수 및 서비스업 중심으로 경제 전반에 충격이 가해짐.\n",
      "Contentes(Spec): 확진자 및 격리자가 급증하면서 국내 유통, 외식, 여행업종이 직격탄을 맞았고, 반면 진단키트 및 백신 관련 기업은 수혜를 입음. 정부는 소비 쿠폰 등으로 대응에 나섰음.\n",
      "Start_date: 2015-05-01\n",
      "Fin_date: 2015-07-01\n",
      "근거자료: 질병관리청 / KRX 시장동향' metadata={'source': 'data\\\\Past_news.csv', 'row': 0}\n",
      "1 page_content='﻿ID: PN_002\n",
      "Issue_name: 중국 증시 폭락 및 위안화 평가절하\n",
      "Contents: 2015년 중반 이후 중국 증시 급락과 위안화 절하로 글로벌 금융시장이 충격\n",
      "Contentes(Spec): 2015년 6월부터 시작된 중국 증시의 급락은 8월 중순 인민은행의 위안화 평가절하 발표와 맞물려 전 세계 금융시장의 변동성을 키웠다. 특히 원자재 수요 둔화 우려와 신흥국 경기 둔화 가능성으로 인해 글로벌 수출 의존도가 높은 한국 기업들의 실적 부진 우려가 확산되었고, 코스피도 이에 따라 큰 폭 하락하였다. 외국인 자금 유출과 함께 원화 약세가 심화되며 환율과 수출 관련 종목 중심으로 주가 조정이 나타났다.\n",
      "Start_date: 2015-06-01\n",
      "Fin_date: 2015-09-01\n",
      "근거자료: KRX Market 2015년 하반기, BoK 금융안정보고서' metadata={'source': 'data\\\\Past_news.csv', 'row': 1}\n"
     ]
    }
   ],
   "source": [
    "from langchain_community.document_loaders import CSVLoader\n",
    "\n",
    "loader = CSVLoader('data\\Past_news.csv')\n",
    "docs = loader.load()\n",
    "for i, d in enumerate(docs[:2]):\n",
    "    print(i, d)"
   ]
  },
  {
   "cell_type": "code",
   "execution_count": 36,
   "id": "b8a067c4",
   "metadata": {},
   "outputs": [
    {
     "data": {
      "text/plain": [
       "28"
      ]
     },
     "execution_count": 36,
     "metadata": {},
     "output_type": "execute_result"
    }
   ],
   "source": [
    "\n",
    "len(docs)   # csv 행이 1205개 있다는 것"
   ]
  },
  {
   "cell_type": "code",
   "execution_count": 37,
   "id": "8df9373e",
   "metadata": {},
   "outputs": [],
   "source": [
    "# embedding 모델 객체 생성\n",
    "from langchain_openai import OpenAIEmbeddings\n",
    "embeddings = OpenAIEmbeddings(model=\"text-embedding-3-small\")\n"
   ]
  },
  {
   "cell_type": "code",
   "execution_count": 38,
   "id": "884f93fa",
   "metadata": {},
   "outputs": [],
   "source": [
    "from pinecone import Pinecone, ServerlessSpec\n",
    "\n",
    "# Pinecone 클라이언트를 초기화(객체생성)\n",
    "pc = Pinecone(api_key=PINECONE_API_KEY)"
   ]
  },
  {
   "cell_type": "code",
   "execution_count": 39,
   "id": "566127b2",
   "metadata": {},
   "outputs": [],
   "source": [
    "# split하기\n",
    "from langchain.text_splitter import RecursiveCharacterTextSplitter\n",
    "\n",
    "# 텍스트 분할기 설정 (예: 1000자씩 분할)\n",
    "text_splitter = RecursiveCharacterTextSplitter(\n",
    "    chunk_size=480, \n",
    "    chunk_overlap=48,\n",
    "    # length_function=tiktoken_len,  # 토큰 기반 길이 측정    \n",
    "    length_function=len,  # 문자수   \n",
    "    separators=[\"\\n\\n\", \"\\n\", \" \", \"\"]\n",
    "    )\n",
    "\n",
    "# 문서를 분할\n",
    "chunks = text_splitter.split_documents(docs)"
   ]
  },
  {
   "cell_type": "code",
   "execution_count": 40,
   "id": "8ce1e886",
   "metadata": {},
   "outputs": [
    {
     "data": {
      "text/plain": [
       "28"
      ]
     },
     "execution_count": 40,
     "metadata": {},
     "output_type": "execute_result"
    }
   ],
   "source": [
    "len(chunks)"
   ]
  },
  {
   "cell_type": "code",
   "execution_count": 41,
   "id": "eb35d959",
   "metadata": {},
   "outputs": [
    {
     "name": "stdout",
     "output_type": "stream",
     "text": [
      "배치 1 완료: 28개 문서 업로드\n"
     ]
    }
   ],
   "source": [
    "# vector sotre에 저장\n",
    "from langchain_pinecone import PineconeVectorStore\n",
    "\n",
    "batch_size = 30\n",
    "  # 한 번에 처리할 문서 수\n",
    "\n",
    "for i in range(0, len(chunks), batch_size):\n",
    "    batch_docs = chunks[i:i+batch_size]\n",
    "    \n",
    "    if i == 0:\n",
    "        # 첫 번째 배치로 벡터 스토어 생성\n",
    "        vector_store = PineconeVectorStore.from_documents(\n",
    "            batch_docs,            # batch_size 수 만큼의 chunk\n",
    "            embedding=embeddings,  # 임베딩 벡터로 변환\n",
    "            index_name=\"lastproject\",   # index 이름\n",
    "            namespace=\"past_issue\"    \n",
    "        )\n",
    "    else:\n",
    "        # 이후 배치는 기존 벡터 스토어에 추가, # 내부적으로 임베딩 벡터로 변환\n",
    "        vector_store.add_documents(batch_docs)  \n",
    "    \n",
    "    print(f\"배치 {i//batch_size + 1} 완료: {len(batch_docs)}개 문서 업로드\")"
   ]
  }
 ],
 "metadata": {
  "kernelspec": {
   "display_name": "3pj_env",
   "language": "python",
   "name": "python3"
  },
  "language_info": {
   "codemirror_mode": {
    "name": "ipython",
    "version": 3
   },
   "file_extension": ".py",
   "mimetype": "text/x-python",
   "name": "python",
   "nbconvert_exporter": "python",
   "pygments_lexer": "ipython3",
   "version": "3.11.13"
  }
 },
 "nbformat": 4,
 "nbformat_minor": 5
}
