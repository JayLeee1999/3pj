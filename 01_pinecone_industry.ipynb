{
 "cells": [
  {
   "cell_type": "code",
   "execution_count": 54,
   "id": "f86719d6",
   "metadata": {},
   "outputs": [],
   "source": [
    "from dotenv import load_dotenv\n",
    "import os\n",
    "\n",
    "load_dotenv(override=True)\n",
    "\n",
    "OPENAI_API_KEY = os.getenv(\"OPENAI_API_KEY\")\n",
    "PINECONE_API_KEY = os.getenv(\"PINECONE_API_KEY\")\n",
    "OPENAI_EMBEDDING_MODEL = os.getenv(\"OPENAI_EMBEDDING_MODEL\")\n",
    "PINECONE_INDEX_NAME = os.getenv(\"PINECONE_INDEX_NAME\")\n",
    "PINECONE_NAMESPACE = os.getenv(\"PINECONE_NAMESPACE\")"
   ]
  },
  {
   "cell_type": "code",
   "execution_count": 55,
   "id": "8dde914e",
   "metadata": {},
   "outputs": [
    {
     "name": "stdout",
     "output_type": "stream",
     "text": [
      "0 page_content='﻿KRX 업종명: IT 서비스\n",
      "상세내용: 컴퓨터\n",
      "특정 고객의 요구에 의하여 주문형 소프트웨어를 자문, 개발 및 공급\n",
      "하는 산업활동을 말한다. 블록체인 기반 기술도 포함한다.\n",
      "<예 시>\n",
      "․주문형 응용 소프트웨어 제작\n",
      "․주문형 컴퓨터 소프트웨어 분석․설계\n",
      "<제 외>\n",
      "․패키지형(범용성) 소프트웨어 개발 및 공급(582)\n",
      "컴퓨터 시스템  통합  자문,  구축  및  관리업' metadata={'source': 'data/산업DB.v.0.3.csv', 'row': 0}\n",
      "1 page_content='﻿KRX 업종명: IT 서비스\n",
      "상세내용: 컴퓨터\n",
      "컴퓨터\n",
      "템을 기획, 설계하는 산업활동을 말한다. 이 사업체는 시스템 통합 서\n",
      "비스를  위하여  구성  요소인  하드웨어와  소프트웨어의  개발,  판매,  시 스템 설치, 시스템 이용자 훈련을 부수적으로 수행할 수 있으며, 블록 체인 기반 기술도 포함한다.\n",
      "<예 시>\n",
      "․시스템 통합(SI) 구축 설계      ․시스템 통합 설계 자문\n",
      "․근거리 통신망(LAN) 컴퓨터 시스템 통합 설계\n",
      "․사무 자동화 컴퓨터 시스템 통합 설계\n",
      "․정보 관리 컴퓨터 시스템 통합 설계\n",
      "<제외>\n",
      "․패키지형(범용성) 소프트웨어 개발 및 공급(582)' metadata={'source': 'data/산업DB.v.0.3.csv', 'row': 1}\n"
     ]
    }
   ],
   "source": [
    "from langchain_community.document_loaders import CSVLoader\n",
    "\n",
    "loader = CSVLoader('data/산업DB.v.0.3.csv')\n",
    "docs = loader.load()\n",
    "for i, d in enumerate(docs[:2]):\n",
    "    print(i, d)"
   ]
  },
  {
   "cell_type": "code",
   "execution_count": 56,
   "id": "b8a067c4",
   "metadata": {},
   "outputs": [
    {
     "data": {
      "text/plain": [
       "1205"
      ]
     },
     "execution_count": 56,
     "metadata": {},
     "output_type": "execute_result"
    }
   ],
   "source": [
    "\n",
    "len(docs)"
   ]
  },
  {
   "cell_type": "code",
   "execution_count": 57,
   "id": "8df9373e",
   "metadata": {},
   "outputs": [],
   "source": [
    "# embedding 모델 객체 생성\n",
    "from langchain_openai import OpenAIEmbeddings\n",
    "embeddings = OpenAIEmbeddings(model=\"text-embedding-3-small\")\n"
   ]
  },
  {
   "cell_type": "code",
   "execution_count": 58,
   "id": "884f93fa",
   "metadata": {},
   "outputs": [],
   "source": [
    "from pinecone import Pinecone, ServerlessSpec\n",
    "\n",
    "# Pinecone 클라이언트를 초기화(객체생성)\n",
    "pc = Pinecone(api_key=PINECONE_API_KEY)"
   ]
  },
  {
   "cell_type": "code",
   "execution_count": 59,
   "id": "566127b2",
   "metadata": {},
   "outputs": [],
   "source": [
    "# split하기\n",
    "from langchain.text_splitter import RecursiveCharacterTextSplitter\n",
    "\n",
    "# 텍스트 분할기 설정 (예: 1000자씩 분할)\n",
    "text_splitter = RecursiveCharacterTextSplitter(\n",
    "    chunk_size=2300, \n",
    "    chunk_overlap=230,\n",
    "    # length_function=tiktoken_len,  # 토큰 기반 길이 측정    \n",
    "    length_function=len,  # 문자수   \n",
    "    separators=[\"\\n\\n\", \"\\n\", \" \", \"\"]\n",
    "    )\n",
    "\n",
    "# 문서를 분할\n",
    "chunks = text_splitter.split_documents(docs)"
   ]
  },
  {
   "cell_type": "code",
   "execution_count": 60,
   "id": "8ce1e886",
   "metadata": {},
   "outputs": [
    {
     "data": {
      "text/plain": [
       "1205"
      ]
     },
     "execution_count": 60,
     "metadata": {},
     "output_type": "execute_result"
    }
   ],
   "source": [
    "len(chunks)"
   ]
  },
  {
   "cell_type": "code",
   "execution_count": 61,
   "id": "eb35d959",
   "metadata": {},
   "outputs": [
    {
     "name": "stdout",
     "output_type": "stream",
     "text": [
      "배치 1 완료: 200개 문서 업로드\n",
      "배치 2 완료: 200개 문서 업로드\n",
      "배치 3 완료: 200개 문서 업로드\n",
      "배치 4 완료: 200개 문서 업로드\n",
      "배치 5 완료: 200개 문서 업로드\n",
      "배치 6 완료: 200개 문서 업로드\n",
      "배치 7 완료: 5개 문서 업로드\n"
     ]
    }
   ],
   "source": [
    "# vector sotre에 저장\n",
    "from langchain_pinecone import PineconeVectorStore\n",
    "\n",
    "batch_size = 200\n",
    "  # 한 번에 처리할 문서 수\n",
    "\n",
    "for i in range(0, len(chunks), batch_size):\n",
    "    batch_docs = chunks[i:i+batch_size]\n",
    "    \n",
    "    if i == 0:\n",
    "        # 첫 번째 배치로 벡터 스토어 생성\n",
    "        vector_store = PineconeVectorStore.from_documents(\n",
    "            batch_docs,            # batch_size 수 만큼의 chunk\n",
    "            embedding=embeddings,  # 임베딩 벡터로 변환\n",
    "            index_name=\"lastproject\",   # index 이름\n",
    "            namespace=\"industry\"    \n",
    "        )\n",
    "    else:\n",
    "        # 이후 배치는 기존 벡터 스토어에 추가, # 내부적으로 임베딩 벡터로 변환\n",
    "        vector_store.add_documents(batch_docs)    \n",
    "    \n",
    "    print(f\"배치 {i//batch_size + 1} 완료: {len(batch_docs)}개 문서 업로드\")"
   ]
  }
 ],
 "metadata": {
  "kernelspec": {
   "display_name": "3pj_env",
   "language": "python",
   "name": "python3"
  },
  "language_info": {
   "codemirror_mode": {
    "name": "ipython",
    "version": 3
   },
   "file_extension": ".py",
   "mimetype": "text/x-python",
   "name": "python",
   "nbconvert_exporter": "python",
   "pygments_lexer": "ipython3",
   "version": "3.11.13"
  }
 },
 "nbformat": 4,
 "nbformat_minor": 5
}
